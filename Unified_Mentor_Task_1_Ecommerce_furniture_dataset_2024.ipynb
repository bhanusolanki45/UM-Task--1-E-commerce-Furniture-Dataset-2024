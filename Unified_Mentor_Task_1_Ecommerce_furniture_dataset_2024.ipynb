{
  "nbformat": 4,
  "nbformat_minor": 0,
  "metadata": {
    "colab": {
      "provenance": []
    },
    "kernelspec": {
      "name": "python3",
      "display_name": "Python 3"
    },
    "language_info": {
      "name": "python"
    }
  },
  "cells": [
    {
      "cell_type": "code",
      "source": [
        "### 1. import Libraries\n",
        "\n",
        "import pandas as pd\n",
        "import numpy as np\n",
        "import matplotlib.pyplot as plt\n",
        "import seaborn as sns\n",
        "import warnings\n",
        "warnings.filterwarnings('ignore')"
      ],
      "metadata": {
        "id": "Yh_8N9TkcTk_"
      },
      "execution_count": null,
      "outputs": []
    },
    {
      "cell_type": "markdown",
      "source": [
        "# 1. Loading DataSet"
      ],
      "metadata": {
        "id": "6iaoJ31Nvxpj"
      }
    },
    {
      "cell_type": "code",
      "source": [
        "### Load Our Dataset\n",
        "\n",
        "df=pd.read_csv('/content/drive/MyDrive/DataSets/ecommerce_furniture_dataset_2024.csv.csv')\n",
        "# print(df.head())\n",
        "# print(df.info())\n",
        "# print(df.describe())\n",
        "# print(df.isnull().sum())"
      ],
      "metadata": {
        "id": "eyknQG7UKV5S"
      },
      "execution_count": null,
      "outputs": []
    },
    {
      "cell_type": "markdown",
      "source": [
        "# 2. Data Pre-Processing"
      ],
      "metadata": {
        "id": "Ooir_mBav4X_"
      }
    },
    {
      "cell_type": "code",
      "source": [
        "# Checking Overall Data\n",
        "\n",
        "df.shape   # There are 2000 ROws and 5 Columns"
      ],
      "metadata": {
        "colab": {
          "base_uri": "https://localhost:8080/"
        },
        "id": "iCeERcK6wA7R",
        "outputId": "88155812-e099-4031-86a6-f366c29cdf62"
      },
      "execution_count": null,
      "outputs": [
        {
          "output_type": "execute_result",
          "data": {
            "text/plain": [
              "(2000, 5)"
            ]
          },
          "metadata": {},
          "execution_count": 4
        }
      ]
    },
    {
      "cell_type": "code",
      "source": [
        "# Checking First few  columns\n",
        "\n",
        "df.head()"
      ],
      "metadata": {
        "colab": {
          "base_uri": "https://localhost:8080/",
          "height": 206
        },
        "id": "ESj9nJIUwZzs",
        "outputId": "bd750ed9-dfec-4032-d2ee-1d506dc0ddcf"
      },
      "execution_count": null,
      "outputs": [
        {
          "output_type": "execute_result",
          "data": {
            "text/plain": [
              "                                        productTitle originalPrice    price  \\\n",
              "0  Dresser For Bedroom With 9 Fabric Drawers Ward...           NaN   $46.79   \n",
              "1  Outdoor Conversation Set 4 Pieces Patio Furnit...           NaN  $169.72   \n",
              "2  Desser For Bedroom With 7 Fabric Drawers Organ...         $78.4   $39.46   \n",
              "3  Modern Accent Boucle Chair,Upholstered Tufted ...           NaN  $111.99   \n",
              "4  Small Unit Simple Computer Desk Household Wood...        $48.82   $21.37   \n",
              "\n",
              "   sold        tagText  \n",
              "0   600  Free shipping  \n",
              "1     0  Free shipping  \n",
              "2     7  Free shipping  \n",
              "3     0  Free shipping  \n",
              "4     1  Free shipping  "
            ],
            "text/html": [
              "\n",
              "  <div id=\"df-82b80823-3764-46be-a459-dd1c4a8c9c0a\" class=\"colab-df-container\">\n",
              "    <div>\n",
              "<style scoped>\n",
              "    .dataframe tbody tr th:only-of-type {\n",
              "        vertical-align: middle;\n",
              "    }\n",
              "\n",
              "    .dataframe tbody tr th {\n",
              "        vertical-align: top;\n",
              "    }\n",
              "\n",
              "    .dataframe thead th {\n",
              "        text-align: right;\n",
              "    }\n",
              "</style>\n",
              "<table border=\"1\" class=\"dataframe\">\n",
              "  <thead>\n",
              "    <tr style=\"text-align: right;\">\n",
              "      <th></th>\n",
              "      <th>productTitle</th>\n",
              "      <th>originalPrice</th>\n",
              "      <th>price</th>\n",
              "      <th>sold</th>\n",
              "      <th>tagText</th>\n",
              "    </tr>\n",
              "  </thead>\n",
              "  <tbody>\n",
              "    <tr>\n",
              "      <th>0</th>\n",
              "      <td>Dresser For Bedroom With 9 Fabric Drawers Ward...</td>\n",
              "      <td>NaN</td>\n",
              "      <td>$46.79</td>\n",
              "      <td>600</td>\n",
              "      <td>Free shipping</td>\n",
              "    </tr>\n",
              "    <tr>\n",
              "      <th>1</th>\n",
              "      <td>Outdoor Conversation Set 4 Pieces Patio Furnit...</td>\n",
              "      <td>NaN</td>\n",
              "      <td>$169.72</td>\n",
              "      <td>0</td>\n",
              "      <td>Free shipping</td>\n",
              "    </tr>\n",
              "    <tr>\n",
              "      <th>2</th>\n",
              "      <td>Desser For Bedroom With 7 Fabric Drawers Organ...</td>\n",
              "      <td>$78.4</td>\n",
              "      <td>$39.46</td>\n",
              "      <td>7</td>\n",
              "      <td>Free shipping</td>\n",
              "    </tr>\n",
              "    <tr>\n",
              "      <th>3</th>\n",
              "      <td>Modern Accent Boucle Chair,Upholstered Tufted ...</td>\n",
              "      <td>NaN</td>\n",
              "      <td>$111.99</td>\n",
              "      <td>0</td>\n",
              "      <td>Free shipping</td>\n",
              "    </tr>\n",
              "    <tr>\n",
              "      <th>4</th>\n",
              "      <td>Small Unit Simple Computer Desk Household Wood...</td>\n",
              "      <td>$48.82</td>\n",
              "      <td>$21.37</td>\n",
              "      <td>1</td>\n",
              "      <td>Free shipping</td>\n",
              "    </tr>\n",
              "  </tbody>\n",
              "</table>\n",
              "</div>\n",
              "    <div class=\"colab-df-buttons\">\n",
              "\n",
              "  <div class=\"colab-df-container\">\n",
              "    <button class=\"colab-df-convert\" onclick=\"convertToInteractive('df-82b80823-3764-46be-a459-dd1c4a8c9c0a')\"\n",
              "            title=\"Convert this dataframe to an interactive table.\"\n",
              "            style=\"display:none;\">\n",
              "\n",
              "  <svg xmlns=\"http://www.w3.org/2000/svg\" height=\"24px\" viewBox=\"0 -960 960 960\">\n",
              "    <path d=\"M120-120v-720h720v720H120Zm60-500h600v-160H180v160Zm220 220h160v-160H400v160Zm0 220h160v-160H400v160ZM180-400h160v-160H180v160Zm440 0h160v-160H620v160ZM180-180h160v-160H180v160Zm440 0h160v-160H620v160Z\"/>\n",
              "  </svg>\n",
              "    </button>\n",
              "\n",
              "  <style>\n",
              "    .colab-df-container {\n",
              "      display:flex;\n",
              "      gap: 12px;\n",
              "    }\n",
              "\n",
              "    .colab-df-convert {\n",
              "      background-color: #E8F0FE;\n",
              "      border: none;\n",
              "      border-radius: 50%;\n",
              "      cursor: pointer;\n",
              "      display: none;\n",
              "      fill: #1967D2;\n",
              "      height: 32px;\n",
              "      padding: 0 0 0 0;\n",
              "      width: 32px;\n",
              "    }\n",
              "\n",
              "    .colab-df-convert:hover {\n",
              "      background-color: #E2EBFA;\n",
              "      box-shadow: 0px 1px 2px rgba(60, 64, 67, 0.3), 0px 1px 3px 1px rgba(60, 64, 67, 0.15);\n",
              "      fill: #174EA6;\n",
              "    }\n",
              "\n",
              "    .colab-df-buttons div {\n",
              "      margin-bottom: 4px;\n",
              "    }\n",
              "\n",
              "    [theme=dark] .colab-df-convert {\n",
              "      background-color: #3B4455;\n",
              "      fill: #D2E3FC;\n",
              "    }\n",
              "\n",
              "    [theme=dark] .colab-df-convert:hover {\n",
              "      background-color: #434B5C;\n",
              "      box-shadow: 0px 1px 3px 1px rgba(0, 0, 0, 0.15);\n",
              "      filter: drop-shadow(0px 1px 2px rgba(0, 0, 0, 0.3));\n",
              "      fill: #FFFFFF;\n",
              "    }\n",
              "  </style>\n",
              "\n",
              "    <script>\n",
              "      const buttonEl =\n",
              "        document.querySelector('#df-82b80823-3764-46be-a459-dd1c4a8c9c0a button.colab-df-convert');\n",
              "      buttonEl.style.display =\n",
              "        google.colab.kernel.accessAllowed ? 'block' : 'none';\n",
              "\n",
              "      async function convertToInteractive(key) {\n",
              "        const element = document.querySelector('#df-82b80823-3764-46be-a459-dd1c4a8c9c0a');\n",
              "        const dataTable =\n",
              "          await google.colab.kernel.invokeFunction('convertToInteractive',\n",
              "                                                    [key], {});\n",
              "        if (!dataTable) return;\n",
              "\n",
              "        const docLinkHtml = 'Like what you see? Visit the ' +\n",
              "          '<a target=\"_blank\" href=https://colab.research.google.com/notebooks/data_table.ipynb>data table notebook</a>'\n",
              "          + ' to learn more about interactive tables.';\n",
              "        element.innerHTML = '';\n",
              "        dataTable['output_type'] = 'display_data';\n",
              "        await google.colab.output.renderOutput(dataTable, element);\n",
              "        const docLink = document.createElement('div');\n",
              "        docLink.innerHTML = docLinkHtml;\n",
              "        element.appendChild(docLink);\n",
              "      }\n",
              "    </script>\n",
              "  </div>\n",
              "\n",
              "\n",
              "    <div id=\"df-d0d49f8d-9922-48ea-ba7f-c268452f1171\">\n",
              "      <button class=\"colab-df-quickchart\" onclick=\"quickchart('df-d0d49f8d-9922-48ea-ba7f-c268452f1171')\"\n",
              "                title=\"Suggest charts\"\n",
              "                style=\"display:none;\">\n",
              "\n",
              "<svg xmlns=\"http://www.w3.org/2000/svg\" height=\"24px\"viewBox=\"0 0 24 24\"\n",
              "     width=\"24px\">\n",
              "    <g>\n",
              "        <path d=\"M19 3H5c-1.1 0-2 .9-2 2v14c0 1.1.9 2 2 2h14c1.1 0 2-.9 2-2V5c0-1.1-.9-2-2-2zM9 17H7v-7h2v7zm4 0h-2V7h2v10zm4 0h-2v-4h2v4z\"/>\n",
              "    </g>\n",
              "</svg>\n",
              "      </button>\n",
              "\n",
              "<style>\n",
              "  .colab-df-quickchart {\n",
              "      --bg-color: #E8F0FE;\n",
              "      --fill-color: #1967D2;\n",
              "      --hover-bg-color: #E2EBFA;\n",
              "      --hover-fill-color: #174EA6;\n",
              "      --disabled-fill-color: #AAA;\n",
              "      --disabled-bg-color: #DDD;\n",
              "  }\n",
              "\n",
              "  [theme=dark] .colab-df-quickchart {\n",
              "      --bg-color: #3B4455;\n",
              "      --fill-color: #D2E3FC;\n",
              "      --hover-bg-color: #434B5C;\n",
              "      --hover-fill-color: #FFFFFF;\n",
              "      --disabled-bg-color: #3B4455;\n",
              "      --disabled-fill-color: #666;\n",
              "  }\n",
              "\n",
              "  .colab-df-quickchart {\n",
              "    background-color: var(--bg-color);\n",
              "    border: none;\n",
              "    border-radius: 50%;\n",
              "    cursor: pointer;\n",
              "    display: none;\n",
              "    fill: var(--fill-color);\n",
              "    height: 32px;\n",
              "    padding: 0;\n",
              "    width: 32px;\n",
              "  }\n",
              "\n",
              "  .colab-df-quickchart:hover {\n",
              "    background-color: var(--hover-bg-color);\n",
              "    box-shadow: 0 1px 2px rgba(60, 64, 67, 0.3), 0 1px 3px 1px rgba(60, 64, 67, 0.15);\n",
              "    fill: var(--button-hover-fill-color);\n",
              "  }\n",
              "\n",
              "  .colab-df-quickchart-complete:disabled,\n",
              "  .colab-df-quickchart-complete:disabled:hover {\n",
              "    background-color: var(--disabled-bg-color);\n",
              "    fill: var(--disabled-fill-color);\n",
              "    box-shadow: none;\n",
              "  }\n",
              "\n",
              "  .colab-df-spinner {\n",
              "    border: 2px solid var(--fill-color);\n",
              "    border-color: transparent;\n",
              "    border-bottom-color: var(--fill-color);\n",
              "    animation:\n",
              "      spin 1s steps(1) infinite;\n",
              "  }\n",
              "\n",
              "  @keyframes spin {\n",
              "    0% {\n",
              "      border-color: transparent;\n",
              "      border-bottom-color: var(--fill-color);\n",
              "      border-left-color: var(--fill-color);\n",
              "    }\n",
              "    20% {\n",
              "      border-color: transparent;\n",
              "      border-left-color: var(--fill-color);\n",
              "      border-top-color: var(--fill-color);\n",
              "    }\n",
              "    30% {\n",
              "      border-color: transparent;\n",
              "      border-left-color: var(--fill-color);\n",
              "      border-top-color: var(--fill-color);\n",
              "      border-right-color: var(--fill-color);\n",
              "    }\n",
              "    40% {\n",
              "      border-color: transparent;\n",
              "      border-right-color: var(--fill-color);\n",
              "      border-top-color: var(--fill-color);\n",
              "    }\n",
              "    60% {\n",
              "      border-color: transparent;\n",
              "      border-right-color: var(--fill-color);\n",
              "    }\n",
              "    80% {\n",
              "      border-color: transparent;\n",
              "      border-right-color: var(--fill-color);\n",
              "      border-bottom-color: var(--fill-color);\n",
              "    }\n",
              "    90% {\n",
              "      border-color: transparent;\n",
              "      border-bottom-color: var(--fill-color);\n",
              "    }\n",
              "  }\n",
              "</style>\n",
              "\n",
              "      <script>\n",
              "        async function quickchart(key) {\n",
              "          const quickchartButtonEl =\n",
              "            document.querySelector('#' + key + ' button');\n",
              "          quickchartButtonEl.disabled = true;  // To prevent multiple clicks.\n",
              "          quickchartButtonEl.classList.add('colab-df-spinner');\n",
              "          try {\n",
              "            const charts = await google.colab.kernel.invokeFunction(\n",
              "                'suggestCharts', [key], {});\n",
              "          } catch (error) {\n",
              "            console.error('Error during call to suggestCharts:', error);\n",
              "          }\n",
              "          quickchartButtonEl.classList.remove('colab-df-spinner');\n",
              "          quickchartButtonEl.classList.add('colab-df-quickchart-complete');\n",
              "        }\n",
              "        (() => {\n",
              "          let quickchartButtonEl =\n",
              "            document.querySelector('#df-d0d49f8d-9922-48ea-ba7f-c268452f1171 button');\n",
              "          quickchartButtonEl.style.display =\n",
              "            google.colab.kernel.accessAllowed ? 'block' : 'none';\n",
              "        })();\n",
              "      </script>\n",
              "    </div>\n",
              "\n",
              "    </div>\n",
              "  </div>\n"
            ],
            "application/vnd.google.colaboratory.intrinsic+json": {
              "type": "dataframe",
              "variable_name": "df",
              "summary": "{\n  \"name\": \"df\",\n  \"rows\": 2000,\n  \"fields\": [\n    {\n      \"column\": \"productTitle\",\n      \"properties\": {\n        \"dtype\": \"string\",\n        \"num_unique_values\": 1793,\n        \"samples\": [\n          \"VOWNER Vanity with Lighted Mirror - Makeup Vanity Desk with Power Outlet and 7 Drawers, 3 Color Lighting Modes Adjustable\",\n          \"Patio Furniture Sets, 7 Piece PE Rattan Wicker Sofa Set, Outdoor Sectional Furniture Chair Set, Outdoor Furniture Sets\",\n          \"White Computer Writing Desk with Drawers Mirror Makeup Table Modern Home Office Wood Legs 39.4*19.7in\"\n        ],\n        \"semantic_type\": \"\",\n        \"description\": \"\"\n      }\n    },\n    {\n      \"column\": \"originalPrice\",\n      \"properties\": {\n        \"dtype\": \"category\",\n        \"num_unique_values\": 453,\n        \"samples\": [\n          \"$218.4\",\n          \"$681.72\",\n          \"$9.78\"\n        ],\n        \"semantic_type\": \"\",\n        \"description\": \"\"\n      }\n    },\n    {\n      \"column\": \"price\",\n      \"properties\": {\n        \"dtype\": \"string\",\n        \"num_unique_values\": 1802,\n        \"samples\": [\n          \"$39.04\",\n          \"$152\",\n          \"$30.27\"\n        ],\n        \"semantic_type\": \"\",\n        \"description\": \"\"\n      }\n    },\n    {\n      \"column\": \"sold\",\n      \"properties\": {\n        \"dtype\": \"number\",\n        \"std\": 254,\n        \"min\": 0,\n        \"max\": 10000,\n        \"num_unique_values\": 115,\n        \"samples\": [\n          47,\n          53,\n          20\n        ],\n        \"semantic_type\": \"\",\n        \"description\": \"\"\n      }\n    },\n    {\n      \"column\": \"tagText\",\n      \"properties\": {\n        \"dtype\": \"category\",\n        \"num_unique_values\": 100,\n        \"samples\": [\n          \"+Shipping: $66.35\",\n          \"+Shipping: $322.02\",\n          \"+Shipping: $12.82\"\n        ],\n        \"semantic_type\": \"\",\n        \"description\": \"\"\n      }\n    }\n  ]\n}"
            }
          },
          "metadata": {},
          "execution_count": 5
        }
      ]
    },
    {
      "cell_type": "code",
      "source": [
        "# Checking data types of columns\n",
        "\n",
        "df.info()"
      ],
      "metadata": {
        "colab": {
          "base_uri": "https://localhost:8080/"
        },
        "id": "nExiRWxMwko_",
        "outputId": "bee50f87-eed5-4a91-957c-7336195bf39b"
      },
      "execution_count": null,
      "outputs": [
        {
          "output_type": "stream",
          "name": "stdout",
          "text": [
            "<class 'pandas.core.frame.DataFrame'>\n",
            "RangeIndex: 2000 entries, 0 to 1999\n",
            "Data columns (total 5 columns):\n",
            " #   Column         Non-Null Count  Dtype \n",
            "---  ------         --------------  ----- \n",
            " 0   productTitle   2000 non-null   object\n",
            " 1   originalPrice  487 non-null    object\n",
            " 2   price          2000 non-null   object\n",
            " 3   sold           2000 non-null   int64 \n",
            " 4   tagText        1997 non-null   object\n",
            "dtypes: int64(1), object(4)\n",
            "memory usage: 78.3+ KB\n"
          ]
        }
      ]
    },
    {
      "cell_type": "code",
      "source": [
        "# Checking Statistical Values of Numerical Columns\n",
        "\n",
        "df.describe()"
      ],
      "metadata": {
        "colab": {
          "base_uri": "https://localhost:8080/",
          "height": 300
        },
        "id": "T1V7AJZcw1yd",
        "outputId": "11afaf10-ad90-49a2-9a6c-c8261cc0333c"
      },
      "execution_count": null,
      "outputs": [
        {
          "output_type": "execute_result",
          "data": {
            "text/plain": [
              "               sold\n",
              "count   2000.000000\n",
              "mean      23.493500\n",
              "std      254.094061\n",
              "min        0.000000\n",
              "25%        1.000000\n",
              "50%        3.000000\n",
              "75%        9.000000\n",
              "max    10000.000000"
            ],
            "text/html": [
              "\n",
              "  <div id=\"df-f144a539-0374-43ca-b2b4-83312eebbc7c\" class=\"colab-df-container\">\n",
              "    <div>\n",
              "<style scoped>\n",
              "    .dataframe tbody tr th:only-of-type {\n",
              "        vertical-align: middle;\n",
              "    }\n",
              "\n",
              "    .dataframe tbody tr th {\n",
              "        vertical-align: top;\n",
              "    }\n",
              "\n",
              "    .dataframe thead th {\n",
              "        text-align: right;\n",
              "    }\n",
              "</style>\n",
              "<table border=\"1\" class=\"dataframe\">\n",
              "  <thead>\n",
              "    <tr style=\"text-align: right;\">\n",
              "      <th></th>\n",
              "      <th>sold</th>\n",
              "    </tr>\n",
              "  </thead>\n",
              "  <tbody>\n",
              "    <tr>\n",
              "      <th>count</th>\n",
              "      <td>2000.000000</td>\n",
              "    </tr>\n",
              "    <tr>\n",
              "      <th>mean</th>\n",
              "      <td>23.493500</td>\n",
              "    </tr>\n",
              "    <tr>\n",
              "      <th>std</th>\n",
              "      <td>254.094061</td>\n",
              "    </tr>\n",
              "    <tr>\n",
              "      <th>min</th>\n",
              "      <td>0.000000</td>\n",
              "    </tr>\n",
              "    <tr>\n",
              "      <th>25%</th>\n",
              "      <td>1.000000</td>\n",
              "    </tr>\n",
              "    <tr>\n",
              "      <th>50%</th>\n",
              "      <td>3.000000</td>\n",
              "    </tr>\n",
              "    <tr>\n",
              "      <th>75%</th>\n",
              "      <td>9.000000</td>\n",
              "    </tr>\n",
              "    <tr>\n",
              "      <th>max</th>\n",
              "      <td>10000.000000</td>\n",
              "    </tr>\n",
              "  </tbody>\n",
              "</table>\n",
              "</div>\n",
              "    <div class=\"colab-df-buttons\">\n",
              "\n",
              "  <div class=\"colab-df-container\">\n",
              "    <button class=\"colab-df-convert\" onclick=\"convertToInteractive('df-f144a539-0374-43ca-b2b4-83312eebbc7c')\"\n",
              "            title=\"Convert this dataframe to an interactive table.\"\n",
              "            style=\"display:none;\">\n",
              "\n",
              "  <svg xmlns=\"http://www.w3.org/2000/svg\" height=\"24px\" viewBox=\"0 -960 960 960\">\n",
              "    <path d=\"M120-120v-720h720v720H120Zm60-500h600v-160H180v160Zm220 220h160v-160H400v160Zm0 220h160v-160H400v160ZM180-400h160v-160H180v160Zm440 0h160v-160H620v160ZM180-180h160v-160H180v160Zm440 0h160v-160H620v160Z\"/>\n",
              "  </svg>\n",
              "    </button>\n",
              "\n",
              "  <style>\n",
              "    .colab-df-container {\n",
              "      display:flex;\n",
              "      gap: 12px;\n",
              "    }\n",
              "\n",
              "    .colab-df-convert {\n",
              "      background-color: #E8F0FE;\n",
              "      border: none;\n",
              "      border-radius: 50%;\n",
              "      cursor: pointer;\n",
              "      display: none;\n",
              "      fill: #1967D2;\n",
              "      height: 32px;\n",
              "      padding: 0 0 0 0;\n",
              "      width: 32px;\n",
              "    }\n",
              "\n",
              "    .colab-df-convert:hover {\n",
              "      background-color: #E2EBFA;\n",
              "      box-shadow: 0px 1px 2px rgba(60, 64, 67, 0.3), 0px 1px 3px 1px rgba(60, 64, 67, 0.15);\n",
              "      fill: #174EA6;\n",
              "    }\n",
              "\n",
              "    .colab-df-buttons div {\n",
              "      margin-bottom: 4px;\n",
              "    }\n",
              "\n",
              "    [theme=dark] .colab-df-convert {\n",
              "      background-color: #3B4455;\n",
              "      fill: #D2E3FC;\n",
              "    }\n",
              "\n",
              "    [theme=dark] .colab-df-convert:hover {\n",
              "      background-color: #434B5C;\n",
              "      box-shadow: 0px 1px 3px 1px rgba(0, 0, 0, 0.15);\n",
              "      filter: drop-shadow(0px 1px 2px rgba(0, 0, 0, 0.3));\n",
              "      fill: #FFFFFF;\n",
              "    }\n",
              "  </style>\n",
              "\n",
              "    <script>\n",
              "      const buttonEl =\n",
              "        document.querySelector('#df-f144a539-0374-43ca-b2b4-83312eebbc7c button.colab-df-convert');\n",
              "      buttonEl.style.display =\n",
              "        google.colab.kernel.accessAllowed ? 'block' : 'none';\n",
              "\n",
              "      async function convertToInteractive(key) {\n",
              "        const element = document.querySelector('#df-f144a539-0374-43ca-b2b4-83312eebbc7c');\n",
              "        const dataTable =\n",
              "          await google.colab.kernel.invokeFunction('convertToInteractive',\n",
              "                                                    [key], {});\n",
              "        if (!dataTable) return;\n",
              "\n",
              "        const docLinkHtml = 'Like what you see? Visit the ' +\n",
              "          '<a target=\"_blank\" href=https://colab.research.google.com/notebooks/data_table.ipynb>data table notebook</a>'\n",
              "          + ' to learn more about interactive tables.';\n",
              "        element.innerHTML = '';\n",
              "        dataTable['output_type'] = 'display_data';\n",
              "        await google.colab.output.renderOutput(dataTable, element);\n",
              "        const docLink = document.createElement('div');\n",
              "        docLink.innerHTML = docLinkHtml;\n",
              "        element.appendChild(docLink);\n",
              "      }\n",
              "    </script>\n",
              "  </div>\n",
              "\n",
              "\n",
              "    <div id=\"df-708d1b06-5640-4da9-a1a2-e13472475a3c\">\n",
              "      <button class=\"colab-df-quickchart\" onclick=\"quickchart('df-708d1b06-5640-4da9-a1a2-e13472475a3c')\"\n",
              "                title=\"Suggest charts\"\n",
              "                style=\"display:none;\">\n",
              "\n",
              "<svg xmlns=\"http://www.w3.org/2000/svg\" height=\"24px\"viewBox=\"0 0 24 24\"\n",
              "     width=\"24px\">\n",
              "    <g>\n",
              "        <path d=\"M19 3H5c-1.1 0-2 .9-2 2v14c0 1.1.9 2 2 2h14c1.1 0 2-.9 2-2V5c0-1.1-.9-2-2-2zM9 17H7v-7h2v7zm4 0h-2V7h2v10zm4 0h-2v-4h2v4z\"/>\n",
              "    </g>\n",
              "</svg>\n",
              "      </button>\n",
              "\n",
              "<style>\n",
              "  .colab-df-quickchart {\n",
              "      --bg-color: #E8F0FE;\n",
              "      --fill-color: #1967D2;\n",
              "      --hover-bg-color: #E2EBFA;\n",
              "      --hover-fill-color: #174EA6;\n",
              "      --disabled-fill-color: #AAA;\n",
              "      --disabled-bg-color: #DDD;\n",
              "  }\n",
              "\n",
              "  [theme=dark] .colab-df-quickchart {\n",
              "      --bg-color: #3B4455;\n",
              "      --fill-color: #D2E3FC;\n",
              "      --hover-bg-color: #434B5C;\n",
              "      --hover-fill-color: #FFFFFF;\n",
              "      --disabled-bg-color: #3B4455;\n",
              "      --disabled-fill-color: #666;\n",
              "  }\n",
              "\n",
              "  .colab-df-quickchart {\n",
              "    background-color: var(--bg-color);\n",
              "    border: none;\n",
              "    border-radius: 50%;\n",
              "    cursor: pointer;\n",
              "    display: none;\n",
              "    fill: var(--fill-color);\n",
              "    height: 32px;\n",
              "    padding: 0;\n",
              "    width: 32px;\n",
              "  }\n",
              "\n",
              "  .colab-df-quickchart:hover {\n",
              "    background-color: var(--hover-bg-color);\n",
              "    box-shadow: 0 1px 2px rgba(60, 64, 67, 0.3), 0 1px 3px 1px rgba(60, 64, 67, 0.15);\n",
              "    fill: var(--button-hover-fill-color);\n",
              "  }\n",
              "\n",
              "  .colab-df-quickchart-complete:disabled,\n",
              "  .colab-df-quickchart-complete:disabled:hover {\n",
              "    background-color: var(--disabled-bg-color);\n",
              "    fill: var(--disabled-fill-color);\n",
              "    box-shadow: none;\n",
              "  }\n",
              "\n",
              "  .colab-df-spinner {\n",
              "    border: 2px solid var(--fill-color);\n",
              "    border-color: transparent;\n",
              "    border-bottom-color: var(--fill-color);\n",
              "    animation:\n",
              "      spin 1s steps(1) infinite;\n",
              "  }\n",
              "\n",
              "  @keyframes spin {\n",
              "    0% {\n",
              "      border-color: transparent;\n",
              "      border-bottom-color: var(--fill-color);\n",
              "      border-left-color: var(--fill-color);\n",
              "    }\n",
              "    20% {\n",
              "      border-color: transparent;\n",
              "      border-left-color: var(--fill-color);\n",
              "      border-top-color: var(--fill-color);\n",
              "    }\n",
              "    30% {\n",
              "      border-color: transparent;\n",
              "      border-left-color: var(--fill-color);\n",
              "      border-top-color: var(--fill-color);\n",
              "      border-right-color: var(--fill-color);\n",
              "    }\n",
              "    40% {\n",
              "      border-color: transparent;\n",
              "      border-right-color: var(--fill-color);\n",
              "      border-top-color: var(--fill-color);\n",
              "    }\n",
              "    60% {\n",
              "      border-color: transparent;\n",
              "      border-right-color: var(--fill-color);\n",
              "    }\n",
              "    80% {\n",
              "      border-color: transparent;\n",
              "      border-right-color: var(--fill-color);\n",
              "      border-bottom-color: var(--fill-color);\n",
              "    }\n",
              "    90% {\n",
              "      border-color: transparent;\n",
              "      border-bottom-color: var(--fill-color);\n",
              "    }\n",
              "  }\n",
              "</style>\n",
              "\n",
              "      <script>\n",
              "        async function quickchart(key) {\n",
              "          const quickchartButtonEl =\n",
              "            document.querySelector('#' + key + ' button');\n",
              "          quickchartButtonEl.disabled = true;  // To prevent multiple clicks.\n",
              "          quickchartButtonEl.classList.add('colab-df-spinner');\n",
              "          try {\n",
              "            const charts = await google.colab.kernel.invokeFunction(\n",
              "                'suggestCharts', [key], {});\n",
              "          } catch (error) {\n",
              "            console.error('Error during call to suggestCharts:', error);\n",
              "          }\n",
              "          quickchartButtonEl.classList.remove('colab-df-spinner');\n",
              "          quickchartButtonEl.classList.add('colab-df-quickchart-complete');\n",
              "        }\n",
              "        (() => {\n",
              "          let quickchartButtonEl =\n",
              "            document.querySelector('#df-708d1b06-5640-4da9-a1a2-e13472475a3c button');\n",
              "          quickchartButtonEl.style.display =\n",
              "            google.colab.kernel.accessAllowed ? 'block' : 'none';\n",
              "        })();\n",
              "      </script>\n",
              "    </div>\n",
              "\n",
              "    </div>\n",
              "  </div>\n"
            ],
            "application/vnd.google.colaboratory.intrinsic+json": {
              "type": "dataframe",
              "summary": "{\n  \"name\": \"df\",\n  \"rows\": 8,\n  \"fields\": [\n    {\n      \"column\": \"sold\",\n      \"properties\": {\n        \"dtype\": \"number\",\n        \"std\": 3488.4071050093885,\n        \"min\": 0.0,\n        \"max\": 10000.0,\n        \"num_unique_values\": 8,\n        \"samples\": [\n          23.4935,\n          3.0,\n          2000.0\n        ],\n        \"semantic_type\": \"\",\n        \"description\": \"\"\n      }\n    }\n  ]\n}"
            }
          },
          "metadata": {},
          "execution_count": 7
        }
      ]
    },
    {
      "cell_type": "code",
      "source": [
        "# Checking Duplicated Values\n",
        "df.duplicated().sum()\n",
        "\n",
        "# Dropping Duplicates\n",
        "df.drop_duplicates(inplace =True)"
      ],
      "metadata": {
        "id": "dj4Mi4v4xNIU"
      },
      "execution_count": null,
      "outputs": []
    },
    {
      "cell_type": "code",
      "source": [
        "# Checking Missing Values\n",
        "print(df.isnull().sum())"
      ],
      "metadata": {
        "id": "tIwxQLmjxBFD",
        "colab": {
          "base_uri": "https://localhost:8080/"
        },
        "outputId": "9e2cccd0-8f86-4ebe-8780-602634e5d796"
      },
      "execution_count": null,
      "outputs": [
        {
          "output_type": "stream",
          "name": "stdout",
          "text": [
            "productTitle        0\n",
            "originalPrice    1436\n",
            "price               0\n",
            "sold                0\n",
            "tagText             2\n",
            "dtype: int64\n"
          ]
        }
      ]
    },
    {
      "cell_type": "code",
      "source": [
        "# Clean 'originalPrice' column by removing '$' and converting to numeric before filling NaNs\n",
        "df['originalPrice'] = df['originalPrice'].astype(str).str.replace('$', '', regex=False).str.replace(',', '', regex=False)\n",
        "df['originalPrice'] = pd.to_numeric(df['originalPrice'], errors='coerce') # Convert to numeric, coercing errors to NaN\n",
        "\n",
        "# Filled 'originalPrice' column with Median Value\n",
        "df['originalPrice'] = df['originalPrice'].fillna(df['originalPrice'].median())\n",
        "\n",
        "# Print the number of missing values after filling\n",
        "print(\"\\nMissing values after filling 'originalPrice':\")\n",
        "print(df.isnull().sum())"
      ],
      "metadata": {
        "colab": {
          "base_uri": "https://localhost:8080/"
        },
        "id": "oXRKC4J80jfb",
        "outputId": "304a67f0-7338-45ef-b76c-80be5e64a2dd"
      },
      "execution_count": null,
      "outputs": [
        {
          "output_type": "stream",
          "name": "stdout",
          "text": [
            "\n",
            "Missing values after filling 'originalPrice':\n",
            "productTitle     0\n",
            "originalPrice    0\n",
            "price            0\n",
            "sold             0\n",
            "tagText          2\n",
            "dtype: int64\n"
          ]
        }
      ]
    },
    {
      "cell_type": "code",
      "source": [
        "# Filled 'Tagtext' Columns with 'Unknown'\n",
        "df['tagText'].fillna('Unknown', inplace = True )\n",
        "\n",
        "# Print After Filled Missing Values\n",
        "print(\"Missing Values After 'tagTeaxt'\\n\", df.isnull().sum())\n",
        "\n",
        "\n",
        "# Convert categorical variables (tagText) to numerical using one-hot encoding\n",
        "\n",
        "df = pd.get_dummies(df, columns=['tagText'], prefix='tag')"
      ],
      "metadata": {
        "colab": {
          "base_uri": "https://localhost:8080/"
        },
        "id": "GI-eE4yPzeTz",
        "outputId": "07c5cf1a-893c-43fd-c978-38055d2a1675"
      },
      "execution_count": null,
      "outputs": [
        {
          "output_type": "stream",
          "name": "stdout",
          "text": [
            "Missing Values After 'tagTeaxt'\n",
            " productTitle     0\n",
            "originalPrice    0\n",
            "price            0\n",
            "sold             0\n",
            "tagText          0\n",
            "dtype: int64\n"
          ]
        }
      ]
    },
    {
      "cell_type": "markdown",
      "source": [
        "# 3. Exploratory Data Analysis(EDA)"
      ],
      "metadata": {
        "id": "qNA26paD2HbD"
      }
    },
    {
      "cell_type": "code",
      "source": [
        "# Import visualization libraries\n",
        "import matplotlib.pyplot as plt\n",
        "import seaborn as sns\n",
        "# Set plot style for better visuals\n",
        "sns.set(style='whitegrid')"
      ],
      "metadata": {
        "id": "Mlud94UY2NKK"
      },
      "execution_count": null,
      "outputs": []
    },
    {
      "cell_type": "code",
      "source": [
        "# 1. Distribution of 'sold'\n",
        "plt.figure(figsize=(8, 6))\n",
        "sns.histplot(df['sold'], bins=30)\n",
        "plt.title('Distribution of Units Sold')\n",
        "plt.xlabel('Units Sold')\n",
        "plt.ylabel('Frequency')\n",
        "\n",
        "plt.show()"
      ],
      "metadata": {
        "colab": {
          "base_uri": "https://localhost:8080/",
          "height": 573
        },
        "id": "lgMCGGgP2gpo",
        "outputId": "f7723a94-af61-4612-a0a4-e9fd6f190800"
      },
      "execution_count": null,
      "outputs": [
        {
          "output_type": "display_data",
          "data": {
            "text/plain": [
              "<Figure size 800x600 with 1 Axes>"
            ],
            "image/png": "[encoded data removed]"
          },
          "metadata": {}
        }
      ]
    },
    {
      "cell_type": "code",
      "source": [
        "# 2. Scatter plot of price vs. sold\n",
        "plt.figure(figsize=(8, 6))\n",
        "sns.scatterplot(x='price', y='sold', data=df)\n",
        "plt.title('Price vs. Units Sold')\n",
        "plt.xlabel('Price')\n",
        "plt.ylabel('Units Sold')\n",
        "\n",
        "plt.show()"
      ],
      "metadata": {
        "colab": {
          "base_uri": "https://localhost:8080/"
        },
        "id": "5KW1wWP72Txw",
        "outputId": "20fbf76e-4e57-456b-ea69-d4e04a22fcdd"
      },
      "execution_count": null,
      "outputs": [
        {
          "output_type": "display_data",
          "data": {
            "text/plain": [
              "<Figure size 800x600 with 1 Axes>"
            ],
            "image/png": "[encoded data removed]"
          },
          "metadata": {}
        }
      ]
    },
    {
      "cell_type": "code",
      "source": [
        "# 3. Scatter plot of originalPrice vs. sold\n",
        "plt.figure(figsize=(8, 6))\n",
        "sns.scatterplot(x='originalPrice', y='sold', data=df)\n",
        "plt.title('Original Price vs. Units Sold')\n",
        "plt.xlabel('Original Price')\n",
        "plt.ylabel('Units Sold')\n",
        "\n",
        "plt.show()"
      ],
      "metadata": {
        "colab": {
          "base_uri": "https://localhost:8080/",
          "height": 573
        },
        "id": "l6qEDwhO2avm",
        "outputId": "952acdfe-c6e6-4516-d508-a9edfebb192b"
      },
      "execution_count": null,
      "outputs": [
        {
          "output_type": "display_data",
          "data": {
            "text/plain": [
              "<Figure size 800x600 with 1 Axes>"
            ],
            "image/png": "[encoded data removed]"
          },
          "metadata": {}
        }
      ]
    },
    {
      "cell_type": "code",
      "source": [
        "# 4. Correlation heatmap (only numerical columns)\n",
        "plt.figure(figsize=(10, 8))\n",
        "numeric_df = df.select_dtypes(include=['float64', 'int64'])\n",
        "sns.heatmap(numeric_df.corr(), annot=True, cmap='coolwarm')\n",
        "plt.title('Correlation Heatmap')\n",
        "\n",
        "plt.show()"
      ],
      "metadata": {
        "colab": {
          "base_uri": "https://localhost:8080/",
          "height": 703
        },
        "id": "OVPmXFQuBk-H",
        "outputId": "23149d5f-cb4d-485c-9793-2434451c8c30"
      },
      "execution_count": null,
      "outputs": [
        {
          "output_type": "display_data",
          "data": {
            "text/plain": [
              "<Figure size 1000x800 with 2 Axes>"
            ],
            "image/png": "[encoded data removed]"
          },
          "metadata": {}
        }
      ]
    },
    {
      "cell_type": "markdown",
      "source": [
        "# 4. Feature Engineering"
      ],
      "metadata": {
        "id": "dHBlff462wBX"
      }
    },
    {
      "cell_type": "code",
      "source": [
        "from sklearn.feature_extraction.text import TfidfVectorizer"
      ],
      "metadata": {
        "id": "dJ473zuO20I_"
      },
      "execution_count": null,
      "outputs": []
    },
    {
      "cell_type": "code",
      "source": [
        "# 1. Calculate discount percentage\n",
        "# Clean 'price' column by removing '$' and converting to numeric\n",
        "df['price'] = df['price'].astype(str).str.replace('$', '', regex=False).str.replace(',', '', regex=False)\n",
        "df['price'] = pd.to_numeric(df['price'], errors='coerce')\n",
        "\n",
        "df['discount_percentage'] = ((df['originalPrice'] - df['price']) / df['originalPrice']) * 100\n",
        "\n",
        "# 2. Convert productTitle to numerical features using TF-IDF\n",
        "tfidf = TfidfVectorizer(max_features=50)  # Limit to top 50 words\n",
        "tfidf_matrix = tfidf.fit_transform(df['productTitle'])\n",
        "tfidf_df = pd.DataFrame(tfidf_matrix.toarray(), columns=tfidf.get_feature_names_out())\n",
        "\n",
        "# Combine TF-IDF features with the original dataset\n",
        "df = pd.concat([df.reset_index(drop=True), tfidf_df], axis=1)\n",
        "\n",
        "# Drop the original productTitle column (no longer needed)\n",
        "df = df.drop('productTitle', axis=1)\n",
        "\n",
        "# Display the first few rows of the updated dataset\n",
        "print(df.head())"
      ],
      "metadata": {
        "colab": {
          "base_uri": "https://localhost:8080/"
        },
        "id": "Jl5i2peX3kRT",
        "outputId": "588e54ce-a4bd-4e99-d97c-0cadf6bb3e30"
      },
      "execution_count": null,
      "outputs": [
        {
          "output_type": "stream",
          "name": "stdout",
          "text": [
            "   originalPrice   price  sold  tag_+Shipping: $1,097.18  \\\n",
            "0         87.155   46.79   600                     False   \n",
            "1         87.155  169.72     0                     False   \n",
            "2         78.400   39.46     7                     False   \n",
            "3         87.155  111.99     0                     False   \n",
            "4         48.820   21.37     1                     False   \n",
            "\n",
            "   tag_+Shipping: $1,115.86  tag_+Shipping: $1,323.31  tag_+Shipping: $104.89  \\\n",
            "0                     False                     False                   False   \n",
            "1                     False                     False                   False   \n",
            "2                     False                     False                   False   \n",
            "3                     False                     False                   False   \n",
            "4                     False                     False                   False   \n",
            "\n",
            "   tag_+Shipping: $106.05  tag_+Shipping: $106.13  tag_+Shipping: $109.18  \\\n",
            "0                   False                   False                   False   \n",
            "1                   False                   False                   False   \n",
            "2                   False                   False                   False   \n",
            "3                   False                   False                   False   \n",
            "4                   False                   False                   False   \n",
            "\n",
            "   ...  stool   storage     table   tv  vanity  wardrobe  white    wicker  \\\n",
            "0  ...    0.0  0.207287  0.000000  0.0     0.0  0.361175    0.0  0.000000   \n",
            "1  ...    0.0  0.000000  0.000000  0.0     0.0  0.000000    0.0  0.339573   \n",
            "2  ...    0.0  0.222156  0.000000  0.0     0.0  0.000000    0.0  0.000000   \n",
            "3  ...    0.0  0.000000  0.000000  0.0     0.0  0.000000    0.0  0.000000   \n",
            "4  ...    0.0  0.000000  0.422409  0.0     0.0  0.000000    0.0  0.000000   \n",
            "\n",
            "       with  wood  \n",
            "0  0.145064   0.0  \n",
            "1  0.000000   0.0  \n",
            "2  0.155470   0.0  \n",
            "3  0.000000   0.0  \n",
            "4  0.000000   0.0  \n",
            "\n",
            "[5 rows x 155 columns]\n"
          ]
        }
      ]
    },
    {
      "cell_type": "code",
      "source": [
        "### 5. Model Selection & Training\n",
        "\n",
        "from sklearn.model_selection import train_test_split\n",
        "from sklearn.linear_model import LinearRegression\n",
        "from sklearn.ensemble import RandomForestRegressor\n",
        "import numpy as np\n",
        "\n",
        "# Preparing features (X) and targeting (y)\n",
        "# Inspecting columns for non-numeric values before dropping 'sold'\n",
        "for col in df.columns:\n",
        "    # Check if the column has object or string dtype and if 'Free shipping' is present\n",
        "    if df[col].dtype == 'object':\n",
        "        if df[col].astype(str).str.contains('Free shipping').any():\n",
        "            print(f\"Column '{col}' contains 'Free shipping' and is of object dtype.\")\n",
        "\n",
        "\n",
        "# 'Free shipping' is in a non-numerical column that should be excluded from X\n",
        "# Update the list of columns to drop from X\n",
        "columns_to_drop = ['sold']\n",
        "\n",
        "# Checking if 'tagText' is the column causing the issue, as it was filled with 'Unknown'\n",
        "# and might contain other strings that weren't handled.\n",
        "if 'tagText' in df.columns:\n",
        "    # Checking if 'tagText' should be excluded or encoded.\n",
        "    # For simplicity, let's exclude it from the initial model training if it contains problematic strings.\n",
        "    # If it's a significant feature, consider One-Hot Encoding or similar.\n",
        "    # For this fix, we will assume 'tagText' contains the string and should be dropped from X.\n",
        "    columns_to_drop.append('tagText')\n",
        "\n",
        "# Adding any other identified non-numeric columns that shouldn't be in the model features\n",
        "# Based on the error, it's likely a column other than the TF-IDF features or the original numerical ones.\n",
        "\n",
        "X = df.drop(columns=columns_to_drop, axis=1)  # Drop 'sold' and any other problematic columns\n",
        "y = df['sold']  # Target variable\n",
        "\n",
        "# Ensure all remaining columns in X are numeric\n",
        "# This step is a safeguard to catch any other non-numeric columns\n",
        "for col in X.columns:\n",
        "    try:\n",
        "        # Attempt to convert to numeric, coercing errors will turn non-numeric to NaN\n",
        "        X[col] = pd.to_numeric(X[col], errors='coerce')\n",
        "    except Exception as e:\n",
        "        print(f\"Could not convert column {col} to numeric: {e}\")\n",
        "\n",
        "# Checking if any NaNs were introduced by the coercion\n",
        "if X.isnull().sum().sum() > 0:\n",
        "    print(\"NaNs introduced after converting columns to numeric. Check the data.\")\n",
        "    # You might need to impute NaNs or drop rows/columns with NaNs\n",
        "\n",
        "# Split data into training and testing sets\n",
        "X_train, X_test, y_train, y_test = train_test_split(X, y, test_size=0.2, random_state=42)\n",
        "\n",
        "# Initialize models\n",
        "lr_model = LinearRegression()\n",
        "rf_model = RandomForestRegressor(n_estimators=100, random_state=42)\n",
        "\n",
        "# Train models\n",
        "lr_model.fit(X_train, y_train)\n",
        "rf_model.fit(X_train, y_train)\n",
        "\n",
        "# Make predictions\n",
        "lr_predictions = lr_model.predict(X_test)\n",
        "rf_predictions = rf_model.predict(X_test)\n",
        "\n",
        "print(\"Linear Regression Predictions (first 5):\", lr_predictions[:5])\n",
        "print(\"Random Forest Predictions (first 5):\", rf_predictions[:5])"
      ],
      "metadata": {
        "id": "TvmFua4kDsFm",
        "colab": {
          "base_uri": "https://localhost:8080/"
        },
        "outputId": "a3d8eaa8-8177-40bb-fe9f-ccd8b33ac569"
      },
      "execution_count": null,
      "outputs": [
        {
          "output_type": "stream",
          "name": "stdout",
          "text": [
            "Linear Regression Predictions (first 5): [78.91588083 -3.13649132 34.89902123  3.42528285 17.79438292]\n",
            "Random Forest Predictions (first 5): [5.33 7.49 0.47 4.2  2.44]\n"
          ]
        }
      ]
    },
    {
      "cell_type": "code",
      "source": [
        "### 6. Model Evaluation\n",
        "\n",
        "from sklearn.metrics import mean_squared_error, r2_score\n",
        "\n",
        "# Evaluate Linear Regression\n",
        "lr_mse = mean_squared_error(y_test, lr_predictions)\n",
        "lr_r2 = r2_score(y_test, lr_predictions)\n",
        "print(\"Linear Regression - MSE:\", lr_mse)\n",
        "print(\"Linear Regression - R-squared:\", lr_r2)\n",
        "\n",
        "# Evaluate Random Forest\n",
        "rf_mse = mean_squared_error(y_test, rf_predictions)\n",
        "rf_r2 = r2_score(y_test, rf_predictions)\n",
        "print(\"Random Forest - MSE:\", rf_mse)\n",
        "print(\"Random Forest - R-squared:\", rf_r2)"
      ],
      "metadata": {
        "id": "dfLgBhcLE3qf",
        "colab": {
          "base_uri": "https://localhost:8080/"
        },
        "outputId": "7d937986-d1dc-4d80-b5fc-b747ad29faae"
      },
      "execution_count": null,
      "outputs": [
        {
          "output_type": "stream",
          "name": "stdout",
          "text": [
            "Linear Regression - MSE: 14090.95128134962\n",
            "Linear Regression - R-squared: -0.09105171415416713\n",
            "Random Forest - MSE: 12978.7093080725\n",
            "Random Forest - R-squared: -0.004931658292190777\n"
          ]
        }
      ]
    },
    {
      "cell_type": "code",
      "source": [
        "# Step 7: Conclusion\n",
        "\n",
        "print(\"\\n=== Model Comparison and Conclusion ===\")\n",
        "print(f\"Linear Regression - MSE: {lr_mse:.2f}, R-squared: {lr_r2:.4f}\")\n",
        "print(f\"Random Forest - MSE: {rf_mse:.2f}, R-squared: {rf_r2:.4f}\")\n",
        "\n",
        "# Compare models based on MSE\n",
        "if rf_mse < lr_mse:\n",
        "    print(\"Random Forest performed better with a lower MSE, indicating more accurate predictions.\")\n",
        "else:\n",
        "    print(\"Linear Regression performed better with a lower MSE.\")"
      ],
      "metadata": {
        "id": "-f_-eRO4dspi",
        "colab": {
          "base_uri": "https://localhost:8080/"
        },
        "outputId": "2f83f05c-331f-4c4f-e6b0-6c222377475d"
      },
      "execution_count": null,
      "outputs": [
        {
          "output_type": "stream",
          "name": "stdout",
          "text": [
            "\n",
            "=== Model Comparison and Conclusion ===\n",
            "Linear Regression - MSE: 14090.95, R-squared: -0.0911\n",
            "Random Forest - MSE: 12978.71, R-squared: -0.0049\n",
            "Random Forest performed better with a lower MSE, indicating more accurate predictions.\n"
          ]
        }
      ]
    },
    {
      "cell_type": "markdown",
      "source": [
        "# END"
      ],
      "metadata": {
        "id": "GlYMmILXXvIl"
      }
    }
  ]
}